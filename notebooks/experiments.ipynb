{
 "cells": [
  {
   "cell_type": "code",
   "execution_count": 3,
   "id": "d2e96766",
   "metadata": {},
   "outputs": [
    {
     "ename": "ImportError",
     "evalue": "cannot import name 'extract_entities' from 'ner' (C:\\Users\\bhava\\anaconda3\\Lib\\site-packages\\ner\\__init__.py)",
     "output_type": "error",
     "traceback": [
      "\u001b[1;31m---------------------------------------------------------------------------\u001b[0m",
      "\u001b[1;31mImportError\u001b[0m                               Traceback (most recent call last)",
      "Cell \u001b[1;32mIn[3], line 5\u001b[0m\n\u001b[0;32m      2\u001b[0m \u001b[38;5;28;01mimport\u001b[39;00m \u001b[38;5;21;01msys\u001b[39;00m\n\u001b[0;32m      3\u001b[0m sys\u001b[38;5;241m.\u001b[39mpath\u001b[38;5;241m.\u001b[39mappend(\u001b[38;5;124m'\u001b[39m\u001b[38;5;124m../src\u001b[39m\u001b[38;5;124m'\u001b[39m)\n\u001b[1;32m----> 5\u001b[0m \u001b[38;5;28;01mfrom\u001b[39;00m \u001b[38;5;21;01mner\u001b[39;00m \u001b[38;5;28;01mimport\u001b[39;00m extract_entities\n\u001b[0;32m      6\u001b[0m \u001b[38;5;28;01mfrom\u001b[39;00m \u001b[38;5;21;01mserializer\u001b[39;00m \u001b[38;5;28;01mimport\u001b[39;00m serialize_tabular_to_narrative\n\u001b[0;32m      7\u001b[0m \u001b[38;5;28;01mfrom\u001b[39;00m \u001b[38;5;21;01mrag\u001b[39;00m \u001b[38;5;28;01mimport\u001b[39;00m encode_and_index, retrieve\n",
      "\u001b[1;31mImportError\u001b[0m: cannot import name 'extract_entities' from 'ner' (C:\\Users\\bhava\\anaconda3\\Lib\\site-packages\\ner\\__init__.py)"
     ]
    }
   ],
   "source": [
    "# Sample Initialization for Jupyter notebook experiments\n",
    "import sys\n",
    "sys.path.append('../src')\n",
    "\n",
    "from ner import extract_entities\n",
    "from serializer import serialize_tabular_to_narrative\n",
    "from rag import encode_and_index, retrieve\n",
    "from llm_inference import generate_diagnosis\n",
    "\n",
    "# Load and preprocess your datasets here for experiments\n"
   ]
  },
  {
   "cell_type": "code",
   "execution_count": null,
   "id": "2c30d52e",
   "metadata": {},
   "outputs": [],
   "source": []
  }
 ],
 "metadata": {
  "kernelspec": {
   "display_name": "Python 3 (ipykernel)",
   "language": "python",
   "name": "python3"
  },
  "language_info": {
   "codemirror_mode": {
    "name": "ipython",
    "version": 3
   },
   "file_extension": ".py",
   "mimetype": "text/x-python",
   "name": "python",
   "nbconvert_exporter": "python",
   "pygments_lexer": "ipython3",
   "version": "3.12.7"
  }
 },
 "nbformat": 4,
 "nbformat_minor": 5
}
